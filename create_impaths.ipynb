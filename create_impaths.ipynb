{
 "cells": [
  {
   "cell_type": "code",
   "execution_count": 1,
   "id": "0dd16c21",
   "metadata": {},
   "outputs": [],
   "source": [
    "import glob"
   ]
  },
  {
   "cell_type": "code",
   "execution_count": 4,
   "id": "94d73e4d",
   "metadata": {},
   "outputs": [],
   "source": [
    "impaths = glob.glob('./datasets/test/*.jpg')"
   ]
  },
  {
   "cell_type": "code",
   "execution_count": 3,
   "id": "b69759db",
   "metadata": {},
   "outputs": [
    {
     "data": {
      "text/plain": [
       "['./datasets/test/COCO_test2014_000000581700.jpg',\n",
       " './datasets/test/COCO_test2014_000000581706.jpg',\n",
       " './datasets/test/COCO_test2014_000000581727.jpg',\n",
       " './datasets/test/COCO_test2014_000000581763.jpg',\n",
       " './datasets/test/COCO_test2014_000000581765.jpg',\n",
       " './datasets/test/COCO_test2014_000000581767.jpg',\n",
       " './datasets/test/COCO_test2014_000000581771.jpg',\n",
       " './datasets/test/COCO_test2014_000000581774.jpg']"
      ]
     },
     "execution_count": 3,
     "metadata": {},
     "output_type": "execute_result"
    }
   ],
   "source": [
    "impaths"
   ]
  },
  {
   "cell_type": "code",
   "execution_count": 5,
   "id": "7a3052d5",
   "metadata": {},
   "outputs": [],
   "source": [
    "with open('./all_impaths.txt', 'w') as f:\n",
    "    for i in range(len(impaths)):\n",
    "        f.write(impaths[i] + '\\n')"
   ]
  },
  {
   "cell_type": "code",
   "execution_count": null,
   "id": "cb202ebe",
   "metadata": {},
   "outputs": [],
   "source": []
  }
 ],
 "metadata": {
  "kernelspec": {
   "display_name": "test_gen",
   "language": "python",
   "name": "test_gen"
  },
  "language_info": {
   "codemirror_mode": {
    "name": "ipython",
    "version": 3
   },
   "file_extension": ".py",
   "mimetype": "text/x-python",
   "name": "python",
   "nbconvert_exporter": "python",
   "pygments_lexer": "ipython3",
   "version": "3.7.12"
  }
 },
 "nbformat": 4,
 "nbformat_minor": 5
}
