{
 "cells": [
  {
   "cell_type": "code",
   "execution_count": 22,
   "id": "1edfe5b1",
   "metadata": {},
   "outputs": [],
   "source": [
    "import os\n",
    "import glob\n",
    "\n",
    "import json\n",
    "import codecs"
   ]
  },
  {
   "cell_type": "code",
   "execution_count": 4,
   "id": "5be78261",
   "metadata": {},
   "outputs": [],
   "source": [
    "paths = glob.glob('../clean_synthtext/SynthText/datasets/test/*.jpg')"
   ]
  },
  {
   "cell_type": "code",
   "execution_count": 13,
   "id": "69f4873a",
   "metadata": {},
   "outputs": [],
   "source": [
    "def clean_impath(name):\n",
    "    num, folder = name.split('/')[-1], name.split('/')[-2]\n",
    "    num = num.split('.')[0]\n",
    "    f_e = num.split('_')\n",
    "    new_name = f'ct_{f_e[-1]}'\n",
    "    return new_name"
   ]
  },
  {
   "cell_type": "code",
   "execution_count": 15,
   "id": "7313ee78",
   "metadata": {},
   "outputs": [],
   "source": [
    "impaths = list(map(clean_impath, paths))"
   ]
  },
  {
   "cell_type": "code",
   "execution_count": 21,
   "id": "8c82e242",
   "metadata": {},
   "outputs": [],
   "source": [
    "with open('../datasets/all_impaths.txt', 'w') as f:\n",
    "    for i in range(len(paths)):\n",
    "        f.write(paths[i] + '\\n')"
   ]
  },
  {
   "cell_type": "code",
   "execution_count": 23,
   "id": "70b33412",
   "metadata": {},
   "outputs": [],
   "source": [
    "json_data = {k:v for k, v in zip(impaths, paths)}\n",
    "file_path = f'../datasets/blurred_dict.json'\n",
    "json.dump(json_data, codecs.open(file_path, 'w', encoding='utf-8'), \n",
    "  separators=(',', ':'), \n",
    "  sort_keys=True, \n",
    "  indent=4)"
   ]
  },
  {
   "cell_type": "code",
   "execution_count": null,
   "id": "847efbd0",
   "metadata": {},
   "outputs": [],
   "source": []
  }
 ],
 "metadata": {
  "kernelspec": {
   "display_name": "test_gen",
   "language": "python",
   "name": "test_gen"
  },
  "language_info": {
   "codemirror_mode": {
    "name": "ipython",
    "version": 3
   },
   "file_extension": ".py",
   "mimetype": "text/x-python",
   "name": "python",
   "nbconvert_exporter": "python",
   "pygments_lexer": "ipython3",
   "version": "3.7.12"
  }
 },
 "nbformat": 4,
 "nbformat_minor": 5
}
