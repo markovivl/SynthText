{
 "cells": [
  {
   "cell_type": "code",
   "execution_count": 1,
   "id": "cd3511ac",
   "metadata": {},
   "outputs": [
    {
     "data": {
      "application/vnd.jupyter.widget-view+json": {
       "model_id": "cdab3062124a41f6b626970d549c9c78",
       "version_major": 2,
       "version_minor": 0
      },
      "text/plain": [
       "  0%|          | 0/8 [00:00<?, ?it/s]"
      ]
     },
     "metadata": {},
     "output_type": "display_data"
    },
    {
     "name": "stderr",
     "output_type": "stream",
     "text": [
      "/home/jovyan/test_gen/lib/python3.7/site-packages/torch/nn/functional.py:718: UserWarning: Named tensors and all their associated APIs are an experimental feature and subject to change. Please do not use them for anything important until they are released as stable. (Triggered internally at  /pytorch/c10/core/TensorImpl.h:1156.)\n",
      "  return torch.max_pool2d(input, kernel_size, stride, padding, dilation, ceil_mode)\n"
     ]
    },
    {
     "name": "stdout",
     "output_type": "stream",
     "text": [
      "10000\n",
      "done\n"
     ]
    }
   ],
   "source": [
    "import os\n",
    "import time\n",
    "import numpy as np\n",
    "import pandas as pd\n",
    "\n",
    "import scipy.io as sio\n",
    "import json\n",
    "from PIL import Image\n",
    "import matplotlib.pyplot as plt\n",
    "from remove_text import *\n",
    "from tqdm.notebook import tqdm\n",
    "import gc\n",
    "\n",
    "TOTAL_IMAGE_NUM = 8\n",
    "\n",
    "ALL_IMPATHS = './all_impaths.txt'\n",
    "\n",
    "BLUR_PATH = './datasets/blur_test/'\n",
    "\n",
    "\n",
    "def get_new_impath(impath):\n",
    "    '''\n",
    "    rename your blurred images\n",
    "    '''\n",
    "    new_impath = BLUR_PATH + impath.split('/')[-1]\n",
    "    return new_impath\n",
    "\n",
    "\n",
    "def main():\n",
    "    remove_text = RemoveText()\n",
    "    with open(ALL_IMPATHS, 'r') as f:\n",
    "        img_names = f.readlines()\n",
    "\n",
    "    for i in range(len(img_names)):\n",
    "        img_names[i] = img_names[i].strip()\n",
    "    \n",
    "    new_impaths = list(map(get_new_impath, img_names))\n",
    "    \n",
    "    loaded_images = []\n",
    "    start_part = 0\n",
    "    end_part = 10000\n",
    "    while start_part < TOTAL_IMAGE_NUM:\n",
    "        imgs = []\n",
    "        gc.collect()\n",
    "        for i in range(start_part, min(end_part, TOTAL_IMAGE_NUM)):\n",
    "            name = img_names[i]\n",
    "            img = np.array(Image.open(name))\n",
    "            if len(img.shape) == 2:\n",
    "                img = np.tile(img, (3, 1, 1))\n",
    "                img = np.transpose(img, (1, 2, 0))\n",
    "            elif img.shape[2] > 3:\n",
    "                img = img[:, :, :3]\n",
    "            assert len(img.shape) == 3\n",
    "            assert img.shape[2] == 3\n",
    "            imgs.append(img)\n",
    "\n",
    "        for i in tqdm(range(len(imgs))):\n",
    "            try:\n",
    "                text_heatmap = remove_text.get_text_heatmap(imgs[i])\n",
    "                imgs[i] = remove_text.blur(imgs[i], text_heatmap)\n",
    "            except:\n",
    "                print(f'blur error at {img_names[i]}')\n",
    "\n",
    "        for i in range(len(imgs)):\n",
    "            Image.fromarray(imgs[i]).save(new_impaths[start_part + i])\n",
    "\n",
    "        loaded_images.extend(new_impaths[start_part:end_part])\n",
    "        print(end_part)\n",
    "        start_part += 10000\n",
    "        end_part += 10000\n",
    "    gc.collect()\n",
    "    with open('loaded_images.txt', 'w') as f:\n",
    "        for item in loaded_images:\n",
    "            f.write(item + '\\n')\n",
    "        print('done')\n",
    "\n",
    "if __name__ == \"__main__\":\n",
    "    main()"
   ]
  },
  {
   "cell_type": "code",
   "execution_count": null,
   "id": "bad2bad0",
   "metadata": {},
   "outputs": [],
   "source": []
  }
 ],
 "metadata": {
  "kernelspec": {
   "display_name": "test_gen",
   "language": "python",
   "name": "test_gen"
  },
  "language_info": {
   "codemirror_mode": {
    "name": "ipython",
    "version": 3
   },
   "file_extension": ".py",
   "mimetype": "text/x-python",
   "name": "python",
   "nbconvert_exporter": "python",
   "pygments_lexer": "ipython3",
   "version": "3.7.12"
  }
 },
 "nbformat": 4,
 "nbformat_minor": 5
}
